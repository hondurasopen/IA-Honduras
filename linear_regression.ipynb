{
  "nbformat": 4,
  "nbformat_minor": 0,
  "metadata": {
    "colab": {
      "name": "Untitled2.ipynb",
      "provenance": [],
      "collapsed_sections": [],
      "authorship_tag": "ABX9TyMosrTmbQuFVpP0y/wdR3di",
      "include_colab_link": true
    },
    "kernelspec": {
      "name": "python3",
      "display_name": "Python 3"
    }
  },
  "cells": [
    {
      "cell_type": "markdown",
      "metadata": {
        "id": "view-in-github",
        "colab_type": "text"
      },
      "source": [
        "<a href=\"https://colab.research.google.com/github/hondurasopen/IA-Honduras/blob/master/linear_regression.ipynb\" target=\"_parent\"><img src=\"https://colab.research.google.com/assets/colab-badge.svg\" alt=\"Open In Colab\"/></a>"
      ]
    },
    {
      "cell_type": "code",
      "metadata": {
        "id": "RCOBJTCPQF_F",
        "colab_type": "code",
        "colab": {}
      },
      "source": [
        "import numpy as np\n",
        "import matplotlib.pyplot as plt\n",
        "# x = producción miles\n",
        "x = np.array([40,42,53,35,56,39,48,30,37,40])\n",
        "\n",
        "# y = gastos generales en mile\n",
        "y = np.array([191,170,272,155,280,173,234,116,153,178])\n",
        "\n",
        "coeffs = np.polyfit(x,y,1)\n",
        "a = coeffs[0]\n",
        "b = coeffs[1]\n",
        "estimar_y = a + (b * x) \n",
        "\n",
        "plt.plot(x, estimar_y)\n",
        "plt.scatter(x,y)\n",
        "plt.show()\n"
      ],
      "execution_count": 0,
      "outputs": []
    }
  ]
}